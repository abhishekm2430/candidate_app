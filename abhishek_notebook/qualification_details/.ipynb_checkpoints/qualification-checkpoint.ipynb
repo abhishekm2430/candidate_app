{
 "cells": [
  {
   "cell_type": "code",
   "execution_count": 11,
   "metadata": {},
   "outputs": [],
   "source": [
    "import os.path\n",
    "import re\n",
    "import tika\n",
    "from tika import parser\n",
    "import nltk\n",
    "from algorithms import max_subarray\n",
    "from nltk.tokenize import PunktSentenceTokenizer,  word_tokenize\n",
    "from nltk.corpus import stopwords\n",
    "from nltk.stem import PorterStemmer\n",
    "from nltk.stem import WordNetLemmatizer\n",
    "tika.initVM()"
   ]
  },
  {
   "cell_type": "code",
   "execution_count": 19,
   "metadata": {},
   "outputs": [],
   "source": [
    "filename = 'My_resume.pdf'\n",
    "#filename = 'testing1.docx'\n",
    "#filename = 'testing_2.pdf'\n",
    "#filename = 'RoushanRanjan3_0.pdf'\n",
    "#filename = 'Resume.docx'\n",
    "parsed = parser.from_file(filename)\n",
    "content = parsed[\"content\"]\n",
    "\n",
    "keys = []\n",
    "with open(\"word_list.txt\") as infile:\n",
    "    for i in infile:\n",
    "        i = i.strip()\n",
    "        keys.append(i)"
   ]
  },
  {
   "cell_type": "code",
   "execution_count": 20,
   "metadata": {},
   "outputs": [],
   "source": [
    "ps = PorterStemmer()\n",
    "\n",
    "example_text = \"This is a good icecream. It is nice product. I hate coca cola. The weather is great and pyhton is awesome. The sky is blue and i was running. I have completed my b.tech from c.v raman institute in information technology from kalyani on 5/12/2018. Cats are better than dogs\"\n",
    "custom_sent_tokenizer = PunktSentenceTokenizer(content)\n",
    "tokenized = custom_sent_tokenizer.tokenize(content)"
   ]
  },
  {
   "cell_type": "code",
   "execution_count": 21,
   "metadata": {},
   "outputs": [],
   "source": [
    "sent = content.split(\"\\n\")\n",
    "# for i in sent:\n",
    "#     print(i)\n",
    "#     print(\"@@@@@@@@@@@@@@@@@@@@@@@@@@@@@@@@@@@@@@@@@\")\n",
    "\n",
    "hash_map = {}\n",
    "actual_map = {}"
   ]
  },
  {
   "cell_type": "code",
   "execution_count": 22,
   "metadata": {},
   "outputs": [],
   "source": [
    "def process_content():\n",
    "  index = 0\n",
    "  try:\n",
    "    for i in sent:\n",
    "      original_text = i\n",
    "      i = re.split('[#$%*:”&()<>?;·/\\|}{~,]|\\s',i.lower())\n",
    "      i = \" \".join(i)\n",
    "      words = nltk.word_tokenize(i)\n",
    "      #print(words)\n",
    "      stop_words = set(stopwords.words(\"english\"))\n",
    "      filtered_sentence = []\n",
    "      for w in words:\n",
    "        if w not in stop_words:\n",
    "          filtered_sentence.append(w)\n",
    "\n",
    "      #print(filtered_sentence)\n",
    "\n",
    "      for ind in range(len(filtered_sentence)-1):\n",
    "        wo1 = filtered_sentence[ind]\n",
    "        wo2 = filtered_sentence[ind+1]\n",
    "        combined_words = wo1 + \" \" + wo2\n",
    "\n",
    "        if wo1 in keys:\n",
    "            hash_map[index] = i\n",
    "            actual_map[index] = original_text\n",
    "        elif wo2 in keys:\n",
    "            hash_map[index] = i\n",
    "            actual_map[index] = original_text\n",
    "        elif combined_words in keys:\n",
    "            hash_map[index] = i\n",
    "            actual_map[index] = original_text\n",
    "\n",
    "      index += 1\n",
    "      #chunked.draw()\n",
    "  except Exception as e:\n",
    "    print(str(e))\n",
    "\n",
    "  return hash_map, actual_map;"
   ]
  },
  {
   "cell_type": "code",
   "execution_count": 23,
   "metadata": {},
   "outputs": [],
   "source": [
    "hash_map, actual_map = process_content()\n",
    "#print(hash_map)\n",
    "text_list = []\n",
    "line_numbers = []\n",
    "for i in hash_map:\n",
    "    text_list.append(hash_map[i])\n",
    "    line_numbers.append(i)"
   ]
  },
  {
   "cell_type": "code",
   "execution_count": 24,
   "metadata": {},
   "outputs": [],
   "source": [
    "details, clusterd_ids = [], []\n",
    "for line_id in (range(len(text_list))):\n",
    "    i = text_list[line_id]\n",
    "    words = nltk.word_tokenize(i)\n",
    "    tagged = nltk.pos_tag(words)\n",
    "    #print(tagged)\n",
    "    namedEnt = nltk.ne_chunk(tagged)\n",
    "    #print(namedEnt)\n",
    "    #print(\"........................................\")\n",
    "    chunkGram1 = r\"\"\"Chunk: {<RB.?>*<VB.?>*<NNP>+<NN>?<IN>*<CD>?}\"\"\"\n",
    "    chunkGram2 = r\"\"\"Chunk: {<NN.?>+<JJ|IN|CD|DT|VB.?|NN.?>+<NN.?>+| <JJ>*<IN|CD|NN.?|VB.?|JJ>+<NN.?>+}\"\"\"\n",
    "    chunkGram3 = r\"\"\"Chunk: {<NN.?>*<CD>+<NN.?>?}\"\"\"\n",
    "    chunkParser3 = nltk.RegexpParser(chunkGram3)\n",
    "    chunkParser1 = nltk.RegexpParser(chunkGram1)\n",
    "    chunkParser2 = nltk.RegexpParser(chunkGram2)\n",
    "    chunked1 = chunkParser1.parse(tagged)\n",
    "\n",
    "    chunked2 = chunkParser2.parse(tagged)\n",
    "    chunked3 = chunkParser3.parse(tagged)\n",
    "    \n",
    "    ans1 = []\n",
    "    for info in chunked2:\n",
    "        if (type(info) != tuple):\n",
    "            #print(\">>>>>>>>>>>>>>>>>>>>>>>>>>>>>>>>>>>>>\")\n",
    "            ans1 += info[0:]\n",
    "            \n",
    "    ans2 = []\n",
    "    for info in chunked3:\n",
    "        if (type(info) != tuple):\n",
    "            #print(\"*************************************\")\n",
    "            ans2 += info[0:]\n",
    "\n",
    "    if(ans1 != [] or ans2 != []):\n",
    "        a1 = []\n",
    "        a2 = []\n",
    "        for a in ans1:\n",
    "            a1.append(a[0])\n",
    "        for a in ans2:\n",
    "            a2.append(a[0])\n",
    "\n",
    "        a1 = \" \".join(a1)\n",
    "        a2 = \" \".join(a2)\n",
    "\n",
    "        temp = {\"NN\": a1, \"NUM\": a2, \"line_id\": line_numbers[line_id]}\n",
    "        clusterd_ids.append(line_numbers[line_id])\n",
    "        details.append(temp)"
   ]
  },
  {
   "cell_type": "code",
   "execution_count": 25,
   "metadata": {},
   "outputs": [
    {
     "name": "stdout",
     "output_type": "stream",
     "text": [
      "Line number :  72\n",
      "Actual line :  technology density, grammar score of resume, personal details, etc and display them on\n",
      ">>>>>>>>>>>>>>>>>>>>>>>>>>>>>>>>>>>>>>>>>>>>>>>\n",
      "Line number :  92\n",
      "Actual line :  May - Jul 2017 Summer Intern at IIT Kharagpur\n",
      ">>>>>>>>>>>>>>>>>>>>>>>>>>>>>>>>>>>>>>>>>>>>>>>\n",
      "Line number :  102\n",
      "Actual line :  May 2018 B.Tech in Computer Science\n",
      ">>>>>>>>>>>>>>>>>>>>>>>>>>>>>>>>>>>>>>>>>>>>>>>\n",
      "Line number :  103\n",
      "Actual line :  Institute : Indian Institute of Information Technology, Kalyani\n",
      ">>>>>>>>>>>>>>>>>>>>>>>>>>>>>>>>>>>>>>>>>>>>>>>\n",
      "Line number :  105\n",
      "Actual line :  CGPA: 9.2/10\n",
      ">>>>>>>>>>>>>>>>>>>>>>>>>>>>>>>>>>>>>>>>>>>>>>>\n",
      "Line number :  107\n",
      "Actual line :  May 2014 12th CBSE\n",
      ">>>>>>>>>>>>>>>>>>>>>>>>>>>>>>>>>>>>>>>>>>>>>>>\n",
      "Line number :  108\n",
      "Actual line :  School : Kendriya Vidyalaya, Dipatoli Ranchi\n",
      ">>>>>>>>>>>>>>>>>>>>>>>>>>>>>>>>>>>>>>>>>>>>>>>\n",
      "Line number :  110\n",
      "Actual line :  Percentage: 93.60%\n",
      ">>>>>>>>>>>>>>>>>>>>>>>>>>>>>>>>>>>>>>>>>>>>>>>\n",
      "Line number :  112\n",
      "Actual line :  May 2012 10th CBSE\n",
      ">>>>>>>>>>>>>>>>>>>>>>>>>>>>>>>>>>>>>>>>>>>>>>>\n",
      "Line number :  113\n",
      "Actual line :  School : Kendriya Vidyalaya, Dipatoli Ranchi\n",
      ">>>>>>>>>>>>>>>>>>>>>>>>>>>>>>>>>>>>>>>>>>>>>>>\n",
      "Line number :  115\n",
      "Actual line :  CGPA: 9.4/10\n",
      ">>>>>>>>>>>>>>>>>>>>>>>>>>>>>>>>>>>>>>>>>>>>>>>\n",
      "Line number :  119\n",
      "Actual line :  Gate - 2018 Marks : 45, Gate - 2018 Score : 588\n",
      ">>>>>>>>>>>>>>>>>>>>>>>>>>>>>>>>>>>>>>>>>>>>>>>\n"
     ]
    }
   ],
   "source": [
    "for d in details:\n",
    "\n",
    "    #print(\"Name related details : \", d[\"NN\"])\n",
    "    print(\"Line number : \", d[\"line_id\"])\n",
    "    print(\"Actual line : \", actual_map[d[\"line_id\"]])\n",
    "    print(\">>>>>>>>>>>>>>>>>>>>>>>>>>>>>>>>>>>>>>>>>>>>>>>\")"
   ]
  },
  {
   "cell_type": "code",
   "execution_count": null,
   "metadata": {},
   "outputs": [],
   "source": [
    "clusterd_ids = max_subarray(clusterd_ids)\n",
    "#print(clusterd_id)\n",
    "for d in clusterd_id:\n",
    "    print(\"Line number : \", d)\n",
    "    print(\"Actual line : \", actual_map[d])\n",
    "    print(\">>>>>>>>>>>>>>>>>>>>>>>>>>>>>>>>>>>>>>>>>>>>>>>\")"
   ]
  },
  {
   "cell_type": "code",
   "execution_count": null,
   "metadata": {},
   "outputs": [],
   "source": []
  }
 ],
 "metadata": {
  "kernelspec": {
   "display_name": "Python 3",
   "language": "python",
   "name": "python3"
  },
  "language_info": {
   "codemirror_mode": {
    "name": "ipython",
    "version": 3
   },
   "file_extension": ".py",
   "mimetype": "text/x-python",
   "name": "python",
   "nbconvert_exporter": "python",
   "pygments_lexer": "ipython3",
   "version": "3.6.3"
  }
 },
 "nbformat": 4,
 "nbformat_minor": 2
}
